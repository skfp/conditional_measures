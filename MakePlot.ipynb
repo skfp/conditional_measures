{
 "cells": [
  {
   "cell_type": "code",
   "execution_count": 1,
   "id": "05fa5326-636a-4691-abc9-36660d8673f8",
   "metadata": {
    "tags": []
   },
   "outputs": [],
   "source": [
    "import matplotlib.pyplot as plt\n",
    "import pandas as pd\n",
    "import seaborn as sns\n",
    "import numpy as np\n",
    "import string\n",
    "import warnings"
   ]
  },
  {
   "cell_type": "code",
   "execution_count": 5,
   "id": "b97370d7-9e3f-4ce1-8146-50fc840139f4",
   "metadata": {
    "tags": []
   },
   "outputs": [],
   "source": [
    "def read_data(n, alpha, beta, c):\n",
    "    print(c)\n",
    "    df_true = pd.read_csv(f'experiments_results/fld_a={alpha}b={beta}_c={c}_xmax=30.0.csv')\n",
    "    df_est = pd.read_csv(f'experiments_results/fld_n={n}_a={alpha}b={beta}_c={c}_xmax=30.0.csv')\n",
    "    # df_true = pd.read_csv(f'~/Downloads/cc_20241129/experiments_results/fld_a={alpha}b={beta}_c={c}_xmax=30.0.csv')\n",
    "    # df_est = pd.read_csv(f'~/Downloads/cc_20241129/experiments_results/fld_n={n}_a={alpha}b={beta}_c={c}_xmax=30.0_test_kb_b10_wl.csv')\n",
    "    return df_true, df_est\n",
    "\n",
    "def get_data(df_est, df_true, x = 5, index='qDI'):\n",
    "    df_est_x = df_est[df_est['xs'] == x].copy()\n",
    "    df_ = {}\n",
    "    for id, dat in enumerate(df_est_x.items()):\n",
    "        col = dat[0]\n",
    "        if col == 'xs':\n",
    "            continue\n",
    "        if 'WL2' in col:\n",
    "            continue\n",
    "        if 'KB82_iso' in col:\n",
    "            continue\n",
    "        which_I = None\n",
    "        if index not in col:\n",
    "            continue\n",
    "        y = df_est_x[col]\n",
    "        ytrue = df_true[df_true['xs'] == x][index].item()\n",
    "        y = y - ytrue\n",
    "        df_[col.replace(f'{index}_','')] = y\n",
    "    df_ = pd.DataFrame(df_)\n",
    "    return df_"
   ]
  },
  {
   "cell_type": "markdown",
   "id": "be595198",
   "metadata": {},
   "source": [
    "# Save boxplots"
   ]
  },
  {
   "cell_type": "code",
   "execution_count": 6,
   "id": "2fd2182e-be87-4294-9467-5047080cde17",
   "metadata": {
    "tags": []
   },
   "outputs": [],
   "source": [
    "def make_plot(n, alpha, beta, c):\n",
    "    xs = [1, 5, 10, 20, 25, 30]\n",
    "    df_true, df_est = read_data(n=n, alpha=alpha, beta=beta, c=c)\n",
    "    df_true['xs'] = df_true['xs'] * c\n",
    "    df_est['xs'] = df_est['xs'] * c\n",
    "    xs = [x * c for x in xs]\n",
    "    fig, axs = plt.subplots(2, len(xs), figsize=(4*len(xs), 4*2))\n",
    "    fig.tight_layout(pad=3.0)\n",
    "    for xid, x in enumerate(xs):\n",
    "        df_qDI = get_data(df_est=df_est, df_true=df_true, x=x, index='qDI')\n",
    "        df_qZI = get_data(df_est=df_est, df_true=df_true, x=x, index='qZI')\n",
    "        sns.boxplot(df_qDI, ax=axs[0, xid])\n",
    "        sns.boxplot(df_qZI, ax=axs[1, xid])\n",
    "        axs[0, xid].set_title(f'$\\kappa$={x}', fontsize=24)\n",
    "    for ax in fig.get_axes():\n",
    "        ax.axhline(y=0, color='r', linestyle='-')\n",
    "    for ax in axs[1, :]:\n",
    "        ax.tick_params(axis=\"x\", rotation=90, labelsize=20)\n",
    "        ax.tick_params(axis=\"y\", labelsize=20)\n",
    "        ax.set_xticklabels(['IOQR', 'IAQR', 'BK', 'BRW', 'WL1', 'CQR'])\n",
    "    for ax in axs[0, :]:\n",
    "        ax.get_xaxis().set_visible(False)\n",
    "        ax.tick_params(axis=\"y\", labelsize=20)\n",
    "    axs[0, 0].set_ylabel('qDI error', fontsize=24)\n",
    "    axs[1, 0].set_ylabel('qZI error', fontsize=24)\n",
    "    filename = f'errors_n={n}_alpha={alpha}_beta={beta}_c={c}.pdf'\n",
    "    plt.savefig(filename, bbox_inches='tight')\n",
    "    plt.close()"
   ]
  },
  {
   "cell_type": "code",
   "execution_count": 7,
   "id": "6a184115",
   "metadata": {},
   "outputs": [
    {
     "name": "stdout",
     "output_type": "stream",
     "text": [
      "0.1\n"
     ]
    },
    {
     "name": "stderr",
     "output_type": "stream",
     "text": [
      "/var/folders/q6/ndvm27kj6bq8rql54t3fyjr80000gn/T/ipykernel_31953/1335166254.py:20: UserWarning: FixedFormatter should only be used together with FixedLocator\n",
      "  ax.set_xticklabels(['IOQR', 'IAQR', 'BK', 'BRW', 'WL1', 'CQR'])\n"
     ]
    },
    {
     "name": "stdout",
     "output_type": "stream",
     "text": [
      "0.1\n"
     ]
    },
    {
     "name": "stderr",
     "output_type": "stream",
     "text": [
      "/var/folders/q6/ndvm27kj6bq8rql54t3fyjr80000gn/T/ipykernel_31953/1335166254.py:20: UserWarning: FixedFormatter should only be used together with FixedLocator\n",
      "  ax.set_xticklabels(['IOQR', 'IAQR', 'BK', 'BRW', 'WL1', 'CQR'])\n"
     ]
    },
    {
     "name": "stdout",
     "output_type": "stream",
     "text": [
      "0.1\n"
     ]
    },
    {
     "name": "stderr",
     "output_type": "stream",
     "text": [
      "/var/folders/q6/ndvm27kj6bq8rql54t3fyjr80000gn/T/ipykernel_31953/1335166254.py:20: UserWarning: FixedFormatter should only be used together with FixedLocator\n",
      "  ax.set_xticklabels(['IOQR', 'IAQR', 'BK', 'BRW', 'WL1', 'CQR'])\n"
     ]
    },
    {
     "name": "stdout",
     "output_type": "stream",
     "text": [
      "0.1\n"
     ]
    },
    {
     "name": "stderr",
     "output_type": "stream",
     "text": [
      "/var/folders/q6/ndvm27kj6bq8rql54t3fyjr80000gn/T/ipykernel_31953/1335166254.py:20: UserWarning: FixedFormatter should only be used together with FixedLocator\n",
      "  ax.set_xticklabels(['IOQR', 'IAQR', 'BK', 'BRW', 'WL1', 'CQR'])\n"
     ]
    }
   ],
   "source": [
    "# generate boxplots and save them to the files\n",
    "\n",
    "for n in [50, 100, 500, 1000]:\n",
    "    make_plot(n=n, alpha=0.5, beta=0.1, c=0.1)\n",
    "    make_plot(n=n, alpha=0.5, beta=0.5, c=0.1)\n",
    "    make_plot(n=n, alpha=0.5, beta=0.1, c=1.0)\n",
    "    make_plot(n=n, alpha=0.5, beta=0.2, c=1.0)\n",
    "    make_plot(n=n, alpha=0.5, beta=0.1, c=0.5)\n",
    "    make_plot(n=n, alpha=0.5, beta=0.5, c=0.5)\n",
    "    make_plot(n=n, alpha=0.5, beta=0.05, c=0.2)\n",
    "    make_plot(n=n, alpha=0.5, beta=0.2, c=0.1)\n",
    "    make_plot(n=n, alpha=0.5, beta=0.2, c=0.3)"
   ]
  },
  {
   "cell_type": "markdown",
   "id": "472e85ed",
   "metadata": {},
   "source": [
    "# Save MSE tables"
   ]
  },
  {
   "cell_type": "code",
   "execution_count": 17,
   "id": "dc882dd9",
   "metadata": {
    "tags": []
   },
   "outputs": [],
   "source": [
    "def make_mse_table(params_lists):\n",
    "    xs = [1, 5, 10, 15, 20, 25, 30]\n",
    "    n, alpha, beta, c = params_lists\n",
    "    df_true, df_est = read_data(n=n, alpha=alpha, beta=beta, c=c)\n",
    "    mses_qdi=[]\n",
    "    mses_qzi=[]\n",
    "    for xid, x in enumerate(xs):\n",
    "        df_qDI = get_data(df_est=df_est, df_true=df_true, x=x, index='qDI')\n",
    "        df_qZI = get_data(df_est=df_est, df_true=df_true, x=x, index='qZI')\n",
    "        mse_qdi = np.round(np.array([np.mean(df_qDI[col]**2) for col in df_qDI.columns])*1000,3)\n",
    "        mse_qzi = np.round(np.array([np.mean(df_qZI[col]**2) for col in df_qZI.columns])*1000,3)\n",
    "        mses_qdi.append(mse_qdi)\n",
    "        mses_qzi.append(mse_qzi)\n",
    "    mses_qdi_df=pd.DataFrame({str(xs[i]):mses_qdi[i] for i in range(len(xs))})\n",
    "    mses_qdi_df['method'] = list(df_qDI.columns)\n",
    "    mses_qdi_df=mses_qdi_df.set_index('method')\n",
    "    mses_qzi_df=pd.DataFrame({str(xs[i]):mses_qzi[i] for i in range(len(xs))})\n",
    "    mses_qzi_df['method'] = list(df_qZI.columns)\n",
    "    mses_qzi_df=mses_qzi_df.set_index('method')\n",
    "    mses_qdi_df.to_csv(f'mse_n={n}_alpha={alpha}_beta={beta}_c={c}_qDI.csv')\n",
    "    mses_qzi_df.to_csv(f'mse_n={n}_alpha={alpha}_beta={beta}_c={c}_qZI.csv')\n",
    "    return(mses_qdi_df, mses_qzi_df)"
   ]
  },
  {
   "cell_type": "code",
   "execution_count": null,
   "id": "457f88c7",
   "metadata": {},
   "outputs": [],
   "source": [
    "# generate MSE tables and save them to the files\n",
    "\n",
    "for n in [50, 100, 500, 1000]:\n",
    "    make_mse_table([n, 0.5, 0.2, 0.1])\n",
    "    make_mse_table([n, 0.5, 0.2, 1.0])\n",
    "    make_mse_table([n, 0.5, 0.1, 1.0])\n",
    "    make_mse_table([n, 0.5, 0.1, 0.1])\n",
    "    make_mse_table([n, 0.5, 0.2, 0.3])\n",
    "    make_mse_table([n, 0.5, 0.5, 0.5])\n",
    "    make_mse_table([n, 0.5, 0.5, 0.1])\n",
    "    make_mse_table([n, 0.5, 0.1, 0.5])\n",
    "    make_mse_table([n, 0.5, 0.05, 0.2])"
   ]
  },
  {
   "cell_type": "markdown",
   "id": "e024de32",
   "metadata": {},
   "source": [
    "# Generate heatmaps"
   ]
  },
  {
   "cell_type": "code",
   "execution_count": 10,
   "id": "27ae828f-ddd6-435c-ba1c-855655d431d3",
   "metadata": {
    "tags": []
   },
   "outputs": [],
   "source": [
    "methods_names = {'iso_qr':'IOQR', 'iso_tau_IQR':'IAQR', 'KB82':'BK', 'b10':'BRW', \n",
    "                 'WL1':'WL1', 'qrfnc_R':'CQR'}\n",
    "# methods_names = {'iso_qr':'IOQR', 'iso_tau_IQR':'IAQR', 'KB82':'BK', 'b10':'BRW', \n",
    "#                  'WL1':'WL1', 'WL2':'WL2', 'qrfnc_R':'CQR'}\n",
    "ns = [50, 100, 500, 1000]\n",
    "parameters_sets = [(0.5, 0.05, 0.2), (0.5, 0.1, 0.1), (0.5, 0.1, 0.5), \n",
    "                   (0.5, 0.1, 1.0), (0.5, 0.2, 0.1), (0.5, 0.2, 0.3),\n",
    "                  (0.5, 0.2, 1.0), (0.5, 0.5, 0.1), (0.5, 0.5, 0.5)]\n",
    "def prepare_data_for_heatmap(ns, parameters_sets):\n",
    "    df = pd.DataFrame()\n",
    "    for n in ns:\n",
    "        for i in range(len(parameters_sets)):\n",
    "            letters_string = string.ascii_lowercase\n",
    "            pars_set_label = letters_string[i]\n",
    "            pars_set = parameters_sets[i]\n",
    "            for conc_index in ['qZI', 'qDI']:\n",
    "                alpha, beta, c = pars_set\n",
    "                mse_test = pd.read_csv(f'mse_n={n}_alpha={alpha}_beta={beta}_c={c}_'+conc_index+'.csv')\n",
    "                # mse_test = pd.read_csv(f'mse_n={n}_alpha={alpha}_beta={beta}_c={c}_'+conc_index+'_kb_b10_wl.csv')\n",
    "                mse_test['method'] = [meth[0:-4] for meth in mse_test['method']]\n",
    "                mse_test = mse_test.replace(methods_names)\n",
    "                mse_test = mse_test.set_index(['method']).stack()\n",
    "                mse_test = pd.DataFrame(mse_test).reset_index()\n",
    "                mse_test = mse_test.rename(columns = {'level_1':'x',0:'MSE'})\n",
    "                mse_test['index'] = [conc_index] * 7 * len(methods_names)\n",
    "                mse_test['n'] = [n] * 7 * len(methods_names)\n",
    "                mse_test['pars_set'] = [pars_set_label] * 7 * len(methods_names)\n",
    "                mse_test['lowest_mse'] = [np.min(mse_test[mse_test['x'] == mse_test['x'][i]]['MSE']) for i in range(7 * len(methods_names))]\n",
    "                df = pd.concat([df, mse_test])\n",
    "    return df"
   ]
  },
  {
   "cell_type": "code",
   "execution_count": 11,
   "id": "f44906e7-71fc-4254-98ed-e5a08cb06660",
   "metadata": {
    "tags": []
   },
   "outputs": [],
   "source": [
    "mses_df = prepare_data_for_heatmap(ns, parameters_sets)"
   ]
  },
  {
   "cell_type": "code",
   "execution_count": 12,
   "id": "6b98fe95-72df-48d3-82de-b8e3707d0baa",
   "metadata": {
    "tags": []
   },
   "outputs": [],
   "source": [
    "mses_df['mse_ratio'] = mses_df['MSE'] / mses_df['lowest_mse']\n",
    "mses_df['x'] = [int(xx) for xx in mses_df['x']]"
   ]
  },
  {
   "cell_type": "code",
   "execution_count": 13,
   "id": "b07ae1f7-adbe-4fa5-8d0c-c854e9b6817e",
   "metadata": {
    "tags": []
   },
   "outputs": [],
   "source": [
    "mses_df = mses_df.rename(columns={'index':'conc_index'})"
   ]
  },
  {
   "cell_type": "code",
   "execution_count": 15,
   "id": "759ec957-d9f7-442a-95e5-6117ad60e2f0",
   "metadata": {
    "tags": []
   },
   "outputs": [],
   "source": [
    "warnings.filterwarnings('ignore')\n",
    "methods = ['IOQR', 'IAQR', 'BRW', 'WL1', 'BK', 'CQR']\n",
    "\n",
    "fig, axs = plt.subplots(2, 3, figsize=(9, 9))\n",
    "for i, ax in enumerate(axs.flat):  # Flatten the axes array for easy iteration\n",
    "    method = methods[i]\n",
    "    mses_df_method = mses_df[mses_df['method'] == method]\n",
    "    mses_df_method['x_labels'] = list(zip(mses_df_method['conc_index'], mses_df_method['x']))\n",
    "    mses_df_method['y_labels'] = list(zip(mses_df_method['n'], mses_df_method['pars_set']))\n",
    "    heatmap_data = mses_df_method.pivot(index='y_labels', columns='x_labels', values='mse_ratio')\n",
    "    heatmap_data = heatmap_data.rename(columns={hdc:hdc[1] for hdc in heatmap_data.columns})\n",
    "    sns.heatmap(heatmap_data, cmap=\"Reds\", cbar_kws={'label': ''}, \n",
    "                vmin=1, vmax=3, ax=axs[int(i/3), i%3])\n",
    "    ax.set_title(method)  # Add a title to the current heatmap\n",
    "    ax.tick_params(left = False, right = False, labelleft = False, \n",
    "                labelbottom = True, bottom = False, labelsize=6, length=0)\n",
    "    ax.set_xticks(np.arange(14))\n",
    "    list_of_xticks = [1,5,10,15,20,25,30]\n",
    "    ax.set_xticklabels([\"      \"+str(i) for i in list_of_xticks]*2)\n",
    "    ax_top = ax.twiny()\n",
    "    ax_top.tick_params(left = False, right = False, labelleft = False, \n",
    "            labelbottom = False, bottom = False, top = False, labeltop = False, length=0)\n",
    "    ax_top.set_xlabel(\"qDI                    qZI\")\n",
    "    ax.set_xlabel(\"x\")\n",
    "    ax.set_ylabel(\"n=1000         n=500           n=100          n=50\")\n",
    "    ax.hlines([9, 18, 27], *ax.get_xlim(), colors='black', linewidth=1.5)  # Horizontal lines\n",
    "    ax.vlines([7], *ax.get_ylim(), colors='black', linewidth=1.5)  # Vertical lines\n",
    "\n",
    "# Adjust layout\n",
    "plt.tight_layout()\n",
    "filename = f'heatmaps_mse_separated.pdf'\n",
    "plt.savefig(filename)\n",
    "# plt.show()\n",
    "plt.close()"
   ]
  },
  {
   "cell_type": "code",
   "execution_count": 74,
   "id": "8033f391-4d23-4efe-bbbc-dbe6170411ce",
   "metadata": {
    "tags": []
   },
   "outputs": [
    {
     "data": {
      "image/png": "[encoded data removed]",
      "text/plain": [
       "<Figure size 900x600 with 18 Axes>"
      ]
     },
     "metadata": {},
     "output_type": "display_data"
    }
   ],
   "source": [
    "warnings.filterwarnings('ignore')\n",
    "methods = ['IOQR', 'IAQR', 'BRW', 'WL1', 'BK', 'CQR']\n",
    "\n",
    "fig, axs = plt.subplots(2, 3, figsize=(9, 6))\n",
    "for i, ax in enumerate(axs.flat):  # Flatten the axes array for easy iteration\n",
    "    method = methods[i]\n",
    "    mses_df_method = mses_df[mses_df['method'] == method]\n",
    "    mses_df_method = mses_df_method[mses_df_method['n'] < 120]\n",
    "    mses_df_method['x_labels'] = list(zip(mses_df_method['conc_index'], mses_df_method['x']))\n",
    "    mses_df_method['y_labels'] = list(zip(mses_df_method['n'], mses_df_method['pars_set']))\n",
    "    heatmap_data = mses_df_method.pivot(index='y_labels', columns='x_labels', values='MSE')\n",
    "    heatmap_data = heatmap_data.rename(columns={hdc:hdc[1] for hdc in heatmap_data.columns})\n",
    "    sns.heatmap(heatmap_data, cmap=\"Reds\", cbar_kws={'label': ''}, \n",
    "                vmin=0, vmax=10, ax=axs[int(i/3), i%3])\n",
    "    ax.set_title(method)  # Add a title to the current heatmap\n",
    "    ax.tick_params(left = False, right = False, labelleft = False, \n",
    "                labelbottom = True, bottom = False, labelsize=6, length=0)\n",
    "    ax.set_xticks(np.arange(14))\n",
    "    list_of_xticks = [1,5,10,15,20,25,30]\n",
    "    ax.set_xticklabels([\"      \"+str(i) for i in list_of_xticks]*2)\n",
    "    ax_top = ax.twiny()\n",
    "    ax_top.tick_params(left = False, right = False, labelleft = False, \n",
    "            labelbottom = False, bottom = False, top = False, labeltop = False, length=0)\n",
    "    ax_top.set_xlabel(\"qDI                    qZI\")\n",
    "    ax.set_xlabel(\"x\")\n",
    "    ax.set_ylabel(\"n=100             n=50\")\n",
    "    \n",
    "    ax.hlines([9], *ax.get_xlim(), colors='black', linewidth=1.5)  # Horizontal lines\n",
    "    ax.vlines([7], *ax.get_ylim(), colors='black', linewidth=1.5)  # Vertical lines\n",
    "\n",
    "# Adjust layout\n",
    "plt.tight_layout()\n",
    "filename = f'heatmaps_mse_separated_values.pdf'\n",
    "plt.savefig(filename)\n",
    "plt.show()\n",
    "plt.close()"
   ]
  },
  {
   "cell_type": "code",
   "execution_count": 18,
   "id": "c2b9bd32",
   "metadata": {},
   "outputs": [
    {
     "name": "stdout",
     "output_type": "stream",
     "text": [
      "0.1\n",
      "0.3\n",
      "0.5\n",
      "0.1\n",
      "0.5\n",
      "0.1\n",
      "0.3\n",
      "0.5\n",
      "0.1\n",
      "0.5\n"
     ]
    }
   ],
   "source": [
    "qDI_MSE = pd.concat([make_mse_table([100, 0.5, 0.2, 0.1])[0], \n",
    "           make_mse_table([100, 0.5, 0.2, 0.3])[0],\n",
    "            make_mse_table([100, 0.5, 0.5, 0.5])[0],\n",
    "            make_mse_table([100, 0.5, 0.5, 0.1])[0],\n",
    "            make_mse_table([100, 0.5, 0.1, 0.5])[0]])\n",
    "qZI_MSE = pd.concat([make_mse_table([100, 0.5, 0.2, 0.1])[1], \n",
    "           make_mse_table([100, 0.5, 0.2, 0.3])[1],\n",
    "            make_mse_table([100, 0.5, 0.5, 0.5])[1],\n",
    "            make_mse_table([100, 0.5, 0.5, 0.1])[1],\n",
    "            make_mse_table([100, 0.5, 0.1, 0.5])[1]])\n",
    "n=100\n",
    "qDI_MSE.to_excel(f'mse_n={n}_qDI.xlsx')\n",
    "qZI_MSE.to_excel(f'mse_n={n}_qZI.xlsx')"
   ]
  },
  {
   "cell_type": "code",
   "execution_count": null,
   "id": "9aadef62",
   "metadata": {},
   "outputs": [],
   "source": []
  },
  {
   "cell_type": "code",
   "execution_count": null,
   "id": "94ddd82b",
   "metadata": {},
   "outputs": [],
   "source": []
  },
  {
   "cell_type": "code",
   "execution_count": null,
   "id": "0222e2fe",
   "metadata": {},
   "outputs": [],
   "source": []
  },
  {
   "cell_type": "code",
   "execution_count": null,
   "id": "94498bde",
   "metadata": {},
   "outputs": [],
   "source": []
  },
  {
   "cell_type": "code",
   "execution_count": null,
   "id": "3f88dbbc",
   "metadata": {},
   "outputs": [],
   "source": []
  }
 ],
 "metadata": {
  "kernelspec": {
   "display_name": "Python 3 (ipykernel)",
   "language": "python",
   "name": "python3"
  },
  "language_info": {
   "codemirror_mode": {
    "name": "ipython",
    "version": 3
   },
   "file_extension": ".py",
   "mimetype": "text/x-python",
   "name": "python",
   "nbconvert_exporter": "python",
   "pygments_lexer": "ipython3",
   "version": "3.11.5"
  }
 },
 "nbformat": 4,
 "nbformat_minor": 5
}
